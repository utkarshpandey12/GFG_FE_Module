{
 "cells": [
  {
   "cell_type": "markdown",
   "id": "366e2cb7-88b3-4130-8a0d-606153eb95bb",
   "metadata": {},
   "source": [
    "<p style=\"font-family: Arial; font-size:1.8em;color:green;\"> Imports and Loading Dataset </p>"
   ]
  },
  {
   "cell_type": "code",
   "execution_count": 1,
   "id": "deff0845-5da0-4cee-85bc-2da04c07e7d4",
   "metadata": {},
   "outputs": [
    {
     "data": {
      "text/html": [
       "<div>\n",
       "<style scoped>\n",
       "    .dataframe tbody tr th:only-of-type {\n",
       "        vertical-align: middle;\n",
       "    }\n",
       "\n",
       "    .dataframe tbody tr th {\n",
       "        vertical-align: top;\n",
       "    }\n",
       "\n",
       "    .dataframe thead th {\n",
       "        text-align: right;\n",
       "    }\n",
       "</style>\n",
       "<table border=\"1\" class=\"dataframe\">\n",
       "  <thead>\n",
       "    <tr style=\"text-align: right;\">\n",
       "      <th></th>\n",
       "      <th>symboling</th>\n",
       "      <th>make</th>\n",
       "      <th>fuel_type</th>\n",
       "      <th>aspiration</th>\n",
       "      <th>num_of_doors</th>\n",
       "      <th>body_style</th>\n",
       "      <th>drive_wheels</th>\n",
       "      <th>engine_location</th>\n",
       "      <th>wheel_base</th>\n",
       "      <th>length</th>\n",
       "      <th>...</th>\n",
       "      <th>engine_size</th>\n",
       "      <th>fuel_system</th>\n",
       "      <th>bore</th>\n",
       "      <th>stroke</th>\n",
       "      <th>compression_ratio</th>\n",
       "      <th>horsepower</th>\n",
       "      <th>peak_rpm</th>\n",
       "      <th>city_mpg</th>\n",
       "      <th>highway_mpg</th>\n",
       "      <th>price</th>\n",
       "    </tr>\n",
       "  </thead>\n",
       "  <tbody>\n",
       "    <tr>\n",
       "      <th>0</th>\n",
       "      <td>3</td>\n",
       "      <td>alfa-romero</td>\n",
       "      <td>gas</td>\n",
       "      <td>std</td>\n",
       "      <td>2</td>\n",
       "      <td>convertible</td>\n",
       "      <td>rwd</td>\n",
       "      <td>front</td>\n",
       "      <td>88.6</td>\n",
       "      <td>168.8</td>\n",
       "      <td>...</td>\n",
       "      <td>130</td>\n",
       "      <td>mpfi</td>\n",
       "      <td>3.47</td>\n",
       "      <td>2.68</td>\n",
       "      <td>9</td>\n",
       "      <td>111</td>\n",
       "      <td>5000</td>\n",
       "      <td>21</td>\n",
       "      <td>27</td>\n",
       "      <td>13495</td>\n",
       "    </tr>\n",
       "    <tr>\n",
       "      <th>1</th>\n",
       "      <td>3</td>\n",
       "      <td>alfa-romero</td>\n",
       "      <td>gas</td>\n",
       "      <td>std</td>\n",
       "      <td>2</td>\n",
       "      <td>convertible</td>\n",
       "      <td>rwd</td>\n",
       "      <td>front</td>\n",
       "      <td>88.6</td>\n",
       "      <td>168.8</td>\n",
       "      <td>...</td>\n",
       "      <td>130</td>\n",
       "      <td>mpfi</td>\n",
       "      <td>3.47</td>\n",
       "      <td>2.68</td>\n",
       "      <td>9</td>\n",
       "      <td>111</td>\n",
       "      <td>5000</td>\n",
       "      <td>21</td>\n",
       "      <td>27</td>\n",
       "      <td>16500</td>\n",
       "    </tr>\n",
       "    <tr>\n",
       "      <th>2</th>\n",
       "      <td>1</td>\n",
       "      <td>alfa-romero</td>\n",
       "      <td>gas</td>\n",
       "      <td>std</td>\n",
       "      <td>2</td>\n",
       "      <td>hatchback</td>\n",
       "      <td>rwd</td>\n",
       "      <td>front</td>\n",
       "      <td>94.5</td>\n",
       "      <td>171.2</td>\n",
       "      <td>...</td>\n",
       "      <td>152</td>\n",
       "      <td>mpfi</td>\n",
       "      <td>2.68</td>\n",
       "      <td>3.47</td>\n",
       "      <td>9</td>\n",
       "      <td>154</td>\n",
       "      <td>5000</td>\n",
       "      <td>19</td>\n",
       "      <td>26</td>\n",
       "      <td>16500</td>\n",
       "    </tr>\n",
       "    <tr>\n",
       "      <th>3</th>\n",
       "      <td>2</td>\n",
       "      <td>audi</td>\n",
       "      <td>gas</td>\n",
       "      <td>std</td>\n",
       "      <td>4</td>\n",
       "      <td>sedan</td>\n",
       "      <td>fwd</td>\n",
       "      <td>front</td>\n",
       "      <td>99.8</td>\n",
       "      <td>176.6</td>\n",
       "      <td>...</td>\n",
       "      <td>109</td>\n",
       "      <td>mpfi</td>\n",
       "      <td>3.19</td>\n",
       "      <td>3.40</td>\n",
       "      <td>10</td>\n",
       "      <td>102</td>\n",
       "      <td>5500</td>\n",
       "      <td>24</td>\n",
       "      <td>30</td>\n",
       "      <td>13950</td>\n",
       "    </tr>\n",
       "    <tr>\n",
       "      <th>4</th>\n",
       "      <td>2</td>\n",
       "      <td>audi</td>\n",
       "      <td>gas</td>\n",
       "      <td>std</td>\n",
       "      <td>4</td>\n",
       "      <td>sedan</td>\n",
       "      <td>4wd</td>\n",
       "      <td>front</td>\n",
       "      <td>99.4</td>\n",
       "      <td>176.6</td>\n",
       "      <td>...</td>\n",
       "      <td>136</td>\n",
       "      <td>mpfi</td>\n",
       "      <td>3.19</td>\n",
       "      <td>3.40</td>\n",
       "      <td>8</td>\n",
       "      <td>115</td>\n",
       "      <td>5500</td>\n",
       "      <td>18</td>\n",
       "      <td>22</td>\n",
       "      <td>17450</td>\n",
       "    </tr>\n",
       "  </tbody>\n",
       "</table>\n",
       "<p>5 rows × 25 columns</p>\n",
       "</div>"
      ],
      "text/plain": [
       "   symboling         make fuel_type aspiration  num_of_doors   body_style  \\\n",
       "0          3  alfa-romero       gas        std             2  convertible   \n",
       "1          3  alfa-romero       gas        std             2  convertible   \n",
       "2          1  alfa-romero       gas        std             2    hatchback   \n",
       "3          2         audi       gas        std             4        sedan   \n",
       "4          2         audi       gas        std             4        sedan   \n",
       "\n",
       "  drive_wheels engine_location  wheel_base  length  ...  engine_size  \\\n",
       "0          rwd           front        88.6   168.8  ...          130   \n",
       "1          rwd           front        88.6   168.8  ...          130   \n",
       "2          rwd           front        94.5   171.2  ...          152   \n",
       "3          fwd           front        99.8   176.6  ...          109   \n",
       "4          4wd           front        99.4   176.6  ...          136   \n",
       "\n",
       "   fuel_system  bore stroke  compression_ratio  horsepower peak_rpm  city_mpg  \\\n",
       "0         mpfi  3.47   2.68                  9         111     5000        21   \n",
       "1         mpfi  3.47   2.68                  9         111     5000        21   \n",
       "2         mpfi  2.68   3.47                  9         154     5000        19   \n",
       "3         mpfi  3.19   3.40                 10         102     5500        24   \n",
       "4         mpfi  3.19   3.40                  8         115     5500        18   \n",
       "\n",
       "   highway_mpg  price  \n",
       "0           27  13495  \n",
       "1           27  16500  \n",
       "2           26  16500  \n",
       "3           30  13950  \n",
       "4           22  17450  \n",
       "\n",
       "[5 rows x 25 columns]"
      ]
     },
     "execution_count": 1,
     "metadata": {},
     "output_type": "execute_result"
    }
   ],
   "source": [
    "import matplotlib.pyplot as plt\n",
    "import numpy as np\n",
    "import pandas as pd\n",
    "import seaborn as sns\n",
    "\n",
    "plt.style.use(\"seaborn-whitegrid\")\n",
    "\n",
    "df = pd.read_csv(\"module2.csv\")\n",
    "df.head()\n",
    "#print(df.info())"
   ]
  },
  {
   "cell_type": "markdown",
   "id": "c6751bcc-1edc-4e9f-a773-ae449ddf8282",
   "metadata": {},
   "source": [
    "<p style=\"font-family: Arial; font-size:1.8em;color:green;\"> Treating Categorical Variables through label encoding </p>"
   ]
  },
  {
   "cell_type": "markdown",
   "id": "39a18daa-4b72-44d6-8212-c374e0612961",
   "metadata": {},
   "source": [
    "<p style=\"font-family: Arial; font-size:1.2em;color:green;\"> The scikit-learn algorithm for MI treats discrete features differently from continuous features. Consequently, you need to tell it which are which. As a rule of thumb, anything that must have a float dtype is not discrete. Categoricals (object or categorial dtype) can be treated as discrete by giving them a label encoding. </p>"
   ]
  },
  {
   "cell_type": "code",
   "execution_count": 13,
   "id": "660a487a-47ca-43c4-baf2-855fa5358f9f",
   "metadata": {},
   "outputs": [
    {
     "name": "stdout",
     "output_type": "stream",
     "text": [
      "     symboling  make  fuel_type  aspiration  num_of_doors  body_style  \\\n",
      "0            3     0          0           0             2           0   \n",
      "1            3     0          0           0             2           0   \n",
      "2            1     0          0           0             2           1   \n",
      "3            2     1          0           0             4           2   \n",
      "4            2     1          0           0             4           2   \n",
      "..         ...   ...        ...         ...           ...         ...   \n",
      "188         -1    20          0           0             4           2   \n",
      "189         -1    20          0           1             4           2   \n",
      "190         -1    20          0           0             4           2   \n",
      "191         -1    20          1           1             4           2   \n",
      "192         -1    20          0           1             4           2   \n",
      "\n",
      "     drive_wheels  engine_location  wheel_base  length  ...  num_of_cylinders  \\\n",
      "0               0                0        88.6   168.8  ...                 4   \n",
      "1               0                0        88.6   168.8  ...                 4   \n",
      "2               0                0        94.5   171.2  ...                 6   \n",
      "3               1                0        99.8   176.6  ...                 4   \n",
      "4               2                0        99.4   176.6  ...                 5   \n",
      "..            ...              ...         ...     ...  ...               ...   \n",
      "188             0                0       109.1   188.8  ...                 4   \n",
      "189             0                0       109.1   188.8  ...                 4   \n",
      "190             0                0       109.1   188.8  ...                 6   \n",
      "191             0                0       109.1   188.8  ...                 6   \n",
      "192             0                0       109.1   188.8  ...                 4   \n",
      "\n",
      "     engine_size  fuel_system  bore  stroke  compression_ratio  horsepower  \\\n",
      "0            130            0  3.47    2.68                  9         111   \n",
      "1            130            0  3.47    2.68                  9         111   \n",
      "2            152            0  2.68    3.47                  9         154   \n",
      "3            109            0  3.19    3.40                 10         102   \n",
      "4            136            0  3.19    3.40                  8         115   \n",
      "..           ...          ...   ...     ...                ...         ...   \n",
      "188          141            0  3.78    3.15                  9         114   \n",
      "189          141            0  3.78    3.15                  8         160   \n",
      "190          173            0  3.58    2.87                  8         134   \n",
      "191          145            5  3.01    3.40                 23         106   \n",
      "192          141            0  3.78    3.15                  9         114   \n",
      "\n",
      "     peak_rpm  city_mpg  highway_mpg  \n",
      "0        5000        21           27  \n",
      "1        5000        21           27  \n",
      "2        5000        19           26  \n",
      "3        5500        24           30  \n",
      "4        5500        18           22  \n",
      "..        ...       ...          ...  \n",
      "188      5400        23           28  \n",
      "189      5300        19           25  \n",
      "190      5500        18           23  \n",
      "191      4800        26           27  \n",
      "192      5400        19           25  \n",
      "\n",
      "[193 rows x 24 columns]\n"
     ]
    }
   ],
   "source": [
    "X = df.copy()\n",
    "y = X.pop(\"price\")\n",
    "\n",
    "# Label encoding for categoricals\n",
    "for colname in X.select_dtypes(\"object\"):\n",
    "    X[colname], _ = X[colname].factorize()\n",
    "print(X)\n",
    "# All discrete features should now have integer dtypes (double-check this before using MI!)\n",
    "#print(X.info())\n",
    "discrete_features = X.dtypes == int"
   ]
  },
  {
   "cell_type": "markdown",
   "id": "e305a476-f9d5-4939-8ba0-2eb52525c696",
   "metadata": {},
   "source": [
    "<p style=\"font-family: Arial; font-size:1.8em;color:green;\"> MI Score calculation function declaration</p>"
   ]
  },
  {
   "cell_type": "code",
   "execution_count": 14,
   "id": "a4f7b39a-a601-42e6-ae9b-60d69f718910",
   "metadata": {},
   "outputs": [
    {
     "data": {
      "text/plain": [
       "curb_weight          0.914889\n",
       "horsepower           0.885499\n",
       "length               0.612029\n",
       "fuel_system          0.462752\n",
       "drive_wheels         0.332695\n",
       "peak_rpm             0.230167\n",
       "compression_ratio    0.101162\n",
       "fuel_type            0.047279\n",
       "Name: MI Scores, dtype: float64"
      ]
     },
     "execution_count": 14,
     "metadata": {},
     "output_type": "execute_result"
    }
   ],
   "source": [
    "from sklearn.feature_selection import mutual_info_regression\n",
    "\n",
    "def make_mi_scores(X, y, discrete_features):\n",
    "    mi_scores = mutual_info_regression(X, y, discrete_features=discrete_features)\n",
    "    mi_scores = pd.Series(mi_scores, name=\"MI Scores\", index=X.columns)\n",
    "    mi_scores = mi_scores.sort_values(ascending=False)\n",
    "    return mi_scores\n",
    "\n",
    "mi_scores = make_mi_scores(X, y, discrete_features)\n",
    "mi_scores[::3]  # show a few features with their MI scores"
   ]
  },
  {
   "cell_type": "markdown",
   "id": "0f3fa99b-d175-47c4-8a78-2800999066b6",
   "metadata": {},
   "source": [
    "<p style=\"font-family: Arial; font-size:1.8em;color:green;\"> MI Score Plot function declaration</p>"
   ]
  },
  {
   "cell_type": "code",
   "execution_count": 15,
   "id": "982dc670-c94b-45f6-82a8-58b129f6a65e",
   "metadata": {},
   "outputs": [
    {
     "data": {
      "image/png": "[encoded data removed]",
      "text/plain": [
       "<Figure size 800x500 with 1 Axes>"
      ]
     },
     "metadata": {},
     "output_type": "display_data"
    }
   ],
   "source": [
    "def plot_mi_scores(scores):\n",
    "    scores = scores.sort_values(ascending=True)\n",
    "    width = np.arange(len(scores))\n",
    "    ticks = list(scores.index)\n",
    "    plt.barh(width, scores)\n",
    "    plt.yticks(width, ticks)\n",
    "    plt.title(\"Mutual Information Scores\")\n",
    "\n",
    "\n",
    "plt.figure(dpi=100, figsize=(8, 5))\n",
    "plot_mi_scores(mi_scores)"
   ]
  },
  {
   "cell_type": "markdown",
   "id": "37e20c08-7dc4-412b-9254-3ea020f24f4d",
   "metadata": {},
   "source": [
    "<p style=\"font-family: Arial; font-size:1.8em;color:green;\"> MI Score Analysis.</p>"
   ]
  },
  {
   "cell_type": "markdown",
   "id": "319a8e55-e34f-4b95-a4f7-87068d251dc1",
   "metadata": {},
   "source": [
    "<p style=\"font-family: Arial; font-size:1.2em;color:green;\"> As we might expect, the high-scoring curb_weight feature exhibits a strong relationship with price, the target. MI can help you to understand the relative potential of a feature as a predictor of the target, considered by itself.It is a univariate metric.The least possible mutual information between quantities is 0.0. When MI is zero, the quantities are independent: neither can tell you anything about the other. Conversely, in theory there's no upper bound to what MI can be. In practice though values above 2.0 or so are uncommon. (Mutual information is a logarithmic quantity, so it increases very slowly.</p>"
   ]
  },
  {
   "cell_type": "markdown",
   "id": "c602eef9-5e4c-44a6-bd0c-f37e3c0ba6b7",
   "metadata": {},
   "source": [
    "<p style=\"font-family: Arial; font-size:1.2em;color:green;\">The advantage of mutual information is that it can detect any kind of relationship, while correlation only detects linear relationships. </p>"
   ]
  },
  {
   "cell_type": "code",
   "execution_count": 6,
   "id": "ccffdb00-88b4-48d6-843f-6781df7fc32d",
   "metadata": {},
   "outputs": [
    {
     "data": {
      "image/png": "[encoded data removed]",
      "text/plain": [
       "<Figure size 360x360 with 1 Axes>"
      ]
     },
     "metadata": {},
     "output_type": "display_data"
    }
   ],
   "source": [
    "# To show curb_weight exhibits Strong relationship with price \n",
    "sns.relplot(x=\"curb_weight\", y=\"price\", data=df);"
   ]
  },
  {
   "cell_type": "markdown",
   "id": "8d51372e-fbf5-4aa9-a712-d0e80d2a652b",
   "metadata": {},
   "source": [
    "<p style=\"font-family: Arial; font-size:1.8em;color:green;\"> MI Score for Classification</p>"
   ]
  },
  {
   "cell_type": "code",
   "execution_count": 17,
   "id": "7b0bc1c6-26b3-423d-a193-40fb4d469161",
   "metadata": {},
   "outputs": [
    {
     "name": "stdout",
     "output_type": "stream",
     "text": [
      "   Column1  Column2  Column3\n",
      "0        0        0        0\n",
      "1        1        0        0\n",
      "2        2        1        1\n",
      "3        2        1        1\n",
      "4        2        2        1\n",
      "[0.67301167 1.05492017 0.67301167]\n"
     ]
    }
   ],
   "source": [
    "# MI score for a classifications problem \n",
    "import numpy as np\n",
    "from sklearn.feature_selection import mutual_info_classif\n",
    "\n",
    "# Creating Dummy dataset \n",
    "X = np.array([[0, 'a', 0],\n",
    "              [1, 'a', 0],\n",
    "              [2, 'b', 1],\n",
    "              [2, 'b', 1],\n",
    "              [2, 'c', 1]])\n",
    "# Creating Dummy dataset Dataframe\n",
    "dataset = pd.DataFrame({'Column1': X[:, 0], 'Column2': X[:, 1], 'Column3': X[:, 2]})\n",
    "\n",
    "# Converting Categorical Columns to Numeric using Label encoding.\n",
    "for colname in dataset.select_dtypes(\"object\"):\n",
    "    dataset[colname], _ = dataset[colname].factorize()\n",
    "#print(dataset)\n",
    "\n",
    "# Creating Target Variable Vector \n",
    "y = np.array([1, 1, 2, 2, 3])\n",
    "\n",
    "# Getting the MI score \n",
    "classf_feature_score = mutual_info_classif(dataset, y, discrete_features=True)\n",
    "\n",
    "# Viewing the classification score for X's features.\n",
    "print(classf_feature_score)"
   ]
  },
  {
   "cell_type": "markdown",
   "id": "2a8f1b2f-9969-42d7-80d8-9a882e77daaf",
   "metadata": {},
   "source": [
    "<p style=\"font-family: Arial; font-size:1.8em;color:green;\"> Conclusion </p>"
   ]
  },
  {
   "cell_type": "markdown",
   "id": "e30e32c3-fec9-4c29-83d3-c796694d855e",
   "metadata": {},
   "source": [
    "<p style=\"font-family: Arial; font-size:1.2em;color:green;\"> We have already learnt that the advantage of mutual information is that it can detect any kind of relationship, while correlation only detects linear relationships. Focus on how correlation is important and advantages of it in feature engineering. </p>"
   ]
  },
  {
   "cell_type": "code",
   "execution_count": null,
   "id": "7f609855-c630-4870-a3c6-250b609a49d9",
   "metadata": {},
   "outputs": [],
   "source": []
  }
 ],
 "metadata": {
  "kernelspec": {
   "display_name": "Python 3 (ipykernel)",
   "language": "python",
   "name": "python3"
  },
  "language_info": {
   "codemirror_mode": {
    "name": "ipython",
    "version": 3
   },
   "file_extension": ".py",
   "mimetype": "text/x-python",
   "name": "python",
   "nbconvert_exporter": "python",
   "pygments_lexer": "ipython3",
   "version": "3.7.6"
  }
 },
 "nbformat": 4,
 "nbformat_minor": 5
}
