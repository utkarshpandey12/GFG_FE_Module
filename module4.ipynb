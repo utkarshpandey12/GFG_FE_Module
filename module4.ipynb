{
 "cells": [
  {
   "cell_type": "markdown",
   "id": "b7a55bf9-e83f-451c-8a34-5f1d9f824b30",
   "metadata": {},
   "source": [
    "<p style=\"font-family: Arial; font-size:3em;color:green;\"> Target Encoding </p>"
   ]
  },
  {
   "cell_type": "markdown",
   "id": "6a64f750-3b52-4772-8f7c-92d92e1ba0e7",
   "metadata": {},
   "source": [
    "<p style=\"font-family: Arial; font-size:1.4em;color:gold;\"> Boost any categorical feature with this powerful technique. </p>"
   ]
  },
  {
   "cell_type": "markdown",
   "id": "a0069215-2ce7-4d13-bd4f-4ded184e237c",
   "metadata": {},
   "source": [
    "<p style=\"font-family: Arial; font-size:1.4em;\"> A target encoding is any kind of encoding that replaces a feature's categories with some number derived from the target. A simple and effective version is to apply a group aggregation </p>"
   ]
  },
  {
   "cell_type": "code",
   "execution_count": 1,
   "id": "ece0f868-5513-407b-9db4-738428d8ee8a",
   "metadata": {},
   "outputs": [
    {
     "data": {
      "text/html": [
       "<div>\n",
       "<style scoped>\n",
       "    .dataframe tbody tr th:only-of-type {\n",
       "        vertical-align: middle;\n",
       "    }\n",
       "\n",
       "    .dataframe tbody tr th {\n",
       "        vertical-align: top;\n",
       "    }\n",
       "\n",
       "    .dataframe thead th {\n",
       "        text-align: right;\n",
       "    }\n",
       "</style>\n",
       "<table border=\"1\" class=\"dataframe\">\n",
       "  <thead>\n",
       "    <tr style=\"text-align: right;\">\n",
       "      <th></th>\n",
       "      <th>make</th>\n",
       "      <th>price</th>\n",
       "      <th>make_encoded</th>\n",
       "    </tr>\n",
       "  </thead>\n",
       "  <tbody>\n",
       "    <tr>\n",
       "      <th>0</th>\n",
       "      <td>alfa-romero</td>\n",
       "      <td>13495</td>\n",
       "      <td>15498.333333</td>\n",
       "    </tr>\n",
       "    <tr>\n",
       "      <th>1</th>\n",
       "      <td>alfa-romero</td>\n",
       "      <td>16500</td>\n",
       "      <td>15498.333333</td>\n",
       "    </tr>\n",
       "    <tr>\n",
       "      <th>2</th>\n",
       "      <td>alfa-romero</td>\n",
       "      <td>16500</td>\n",
       "      <td>15498.333333</td>\n",
       "    </tr>\n",
       "    <tr>\n",
       "      <th>3</th>\n",
       "      <td>audi</td>\n",
       "      <td>13950</td>\n",
       "      <td>17859.166667</td>\n",
       "    </tr>\n",
       "    <tr>\n",
       "      <th>4</th>\n",
       "      <td>audi</td>\n",
       "      <td>17450</td>\n",
       "      <td>17859.166667</td>\n",
       "    </tr>\n",
       "    <tr>\n",
       "      <th>5</th>\n",
       "      <td>audi</td>\n",
       "      <td>15250</td>\n",
       "      <td>17859.166667</td>\n",
       "    </tr>\n",
       "    <tr>\n",
       "      <th>6</th>\n",
       "      <td>audi</td>\n",
       "      <td>17710</td>\n",
       "      <td>17859.166667</td>\n",
       "    </tr>\n",
       "    <tr>\n",
       "      <th>7</th>\n",
       "      <td>audi</td>\n",
       "      <td>18920</td>\n",
       "      <td>17859.166667</td>\n",
       "    </tr>\n",
       "    <tr>\n",
       "      <th>8</th>\n",
       "      <td>audi</td>\n",
       "      <td>23875</td>\n",
       "      <td>17859.166667</td>\n",
       "    </tr>\n",
       "    <tr>\n",
       "      <th>9</th>\n",
       "      <td>bmw</td>\n",
       "      <td>16430</td>\n",
       "      <td>26118.750000</td>\n",
       "    </tr>\n",
       "    <tr>\n",
       "      <th>10</th>\n",
       "      <td>bmw</td>\n",
       "      <td>16925</td>\n",
       "      <td>26118.750000</td>\n",
       "    </tr>\n",
       "    <tr>\n",
       "      <th>11</th>\n",
       "      <td>bmw</td>\n",
       "      <td>20970</td>\n",
       "      <td>26118.750000</td>\n",
       "    </tr>\n",
       "    <tr>\n",
       "      <th>12</th>\n",
       "      <td>bmw</td>\n",
       "      <td>21105</td>\n",
       "      <td>26118.750000</td>\n",
       "    </tr>\n",
       "    <tr>\n",
       "      <th>13</th>\n",
       "      <td>bmw</td>\n",
       "      <td>24565</td>\n",
       "      <td>26118.750000</td>\n",
       "    </tr>\n",
       "    <tr>\n",
       "      <th>14</th>\n",
       "      <td>bmw</td>\n",
       "      <td>30760</td>\n",
       "      <td>26118.750000</td>\n",
       "    </tr>\n",
       "    <tr>\n",
       "      <th>15</th>\n",
       "      <td>bmw</td>\n",
       "      <td>41315</td>\n",
       "      <td>26118.750000</td>\n",
       "    </tr>\n",
       "    <tr>\n",
       "      <th>16</th>\n",
       "      <td>bmw</td>\n",
       "      <td>36880</td>\n",
       "      <td>26118.750000</td>\n",
       "    </tr>\n",
       "    <tr>\n",
       "      <th>17</th>\n",
       "      <td>chevrolet</td>\n",
       "      <td>5151</td>\n",
       "      <td>6007.000000</td>\n",
       "    </tr>\n",
       "    <tr>\n",
       "      <th>18</th>\n",
       "      <td>chevrolet</td>\n",
       "      <td>6295</td>\n",
       "      <td>6007.000000</td>\n",
       "    </tr>\n",
       "    <tr>\n",
       "      <th>19</th>\n",
       "      <td>chevrolet</td>\n",
       "      <td>6575</td>\n",
       "      <td>6007.000000</td>\n",
       "    </tr>\n",
       "  </tbody>\n",
       "</table>\n",
       "</div>"
      ],
      "text/plain": [
       "           make  price  make_encoded\n",
       "0   alfa-romero  13495  15498.333333\n",
       "1   alfa-romero  16500  15498.333333\n",
       "2   alfa-romero  16500  15498.333333\n",
       "3          audi  13950  17859.166667\n",
       "4          audi  17450  17859.166667\n",
       "5          audi  15250  17859.166667\n",
       "6          audi  17710  17859.166667\n",
       "7          audi  18920  17859.166667\n",
       "8          audi  23875  17859.166667\n",
       "9           bmw  16430  26118.750000\n",
       "10          bmw  16925  26118.750000\n",
       "11          bmw  20970  26118.750000\n",
       "12          bmw  21105  26118.750000\n",
       "13          bmw  24565  26118.750000\n",
       "14          bmw  30760  26118.750000\n",
       "15          bmw  41315  26118.750000\n",
       "16          bmw  36880  26118.750000\n",
       "17    chevrolet   5151   6007.000000\n",
       "18    chevrolet   6295   6007.000000\n",
       "19    chevrolet   6575   6007.000000"
      ]
     },
     "execution_count": 1,
     "metadata": {},
     "output_type": "execute_result"
    }
   ],
   "source": [
    "import pandas as pd\n",
    "\n",
    "autos = pd.read_csv(\"module2.csv\")\n",
    "\n",
    "autos[\"make_encoded\"] = autos.groupby(\"make\")[\"price\"].transform(\"mean\")\n",
    "\n",
    "autos[[\"make\", \"price\", \"make_encoded\"]].head(20)"
   ]
  },
  {
   "cell_type": "markdown",
   "id": "f55d160a-280b-4945-ba0d-890cfa5c80b4",
   "metadata": {
    "tags": []
   },
   "source": [
    "<p style=\"font-family: Arial; font-size:1.4em;\"> An encoding like this presents a couple of problems.Target encodings create a special risk of overfitting, which means they need to be trained on an independent \"encoding\" split. When you join the encoding to future splits, Pandas will fill in missing values for any categories not present in the encoding split. </p>"
   ]
  },
  {
   "cell_type": "markdown",
   "id": "0dc6d672-1969-4d0b-a0be-c08af8efa671",
   "metadata": {},
   "source": [
    "<p style=\"font-family: Arial; font-size:1.4em;color:green;\"> 1. Unknown categories which did not exist in dataset </p>\n",
    "<p style=\"font-family: Arial; font-size:1.4em;color:green;\"> 2. Rare categories. When a category only occurs a few times in the dataset, any statistics calculated on its group are unlikely to be very accurate.  </p>"
   ]
  },
  {
   "cell_type": "markdown",
   "id": "90a5fcfa-29c8-4316-9de2-ac9525adff2f",
   "metadata": {},
   "source": [
    "<p style=\"font-family: Arial; font-size:3em;color:green;\"> A solution to these problems is to handle both Issues. The idea is to blend the category_average with the overall_dataset_average. Rare categories get less weight on their category_average, while missing categories just get the overall_dataset_average. </p>"
   ]
  },
  {
   "cell_type": "markdown",
   "id": "6a711bc7-3a70-481f-8dc4-e70b4a3885de",
   "metadata": {},
   "source": [
    "<p style=\"font-family: Arial; font-size:1.4em;color:green;\"> In pseudocode: </p>"
   ]
  },
  {
   "cell_type": "markdown",
   "id": "20c9e5a2-015e-4762-9041-a3b5bbf19b6f",
   "metadata": {},
   "source": [
    "```python\n",
    "encoding = weight * category_average + (1 - weight) * overall_dataset_average\n",
    "```"
   ]
  },
  {
   "cell_type": "markdown",
   "id": "e5a08242-2401-4dfe-872f-5fc3fe3a4fee",
   "metadata": {},
   "source": [
    "<p style=\"font-family: Arial; font-size:1.4em;color:green;\"> where weight is a value between 0 and 1 calculated from the category frequency.An easy way to determine the value for weight is to compute an m-estimate: </p>"
   ]
  },
  {
   "cell_type": "markdown",
   "id": "f0706a9a-b2fd-49e5-84d5-2687cbdaedce",
   "metadata": {},
   "source": [
    "```python\n",
    "weight = n / (n + m)\n",
    "```"
   ]
  },
  {
   "cell_type": "markdown",
   "id": "d15f9c43-8cb6-4324-9229-1a87ba9fe785",
   "metadata": {},
   "source": [
    "<p style=\"font-family: Arial; font-size:1.4em;color:green;\"> where n is the total number of times that category occurs in the data. The parameter m determines the \"smoothing factor\". Larger values of m put more weight on the overall estimate. Basic Maths  </p>"
   ]
  },
  {
   "cell_type": "markdown",
   "id": "79a08a9a-42e1-43e1-8883-5548545ead1e",
   "metadata": {},
   "source": [
    "<p style=\"font-family: Arial; font-size:1.4em;color:green;\"> In the Automobiles dataset there are three cars with the make chevrolet. If you chose m=2.0, then the chevrolet category would be encoded with 60% of the average Chevrolet price plus 40% of the overall average price.</p>"
   ]
  },
  {
   "cell_type": "markdown",
   "id": "9d3f6307-a9ed-470d-847f-1a1d73730fcb",
   "metadata": {},
   "source": [
    "```python\n",
    "let's assume m=2\n",
    "weight = 3/3+2 = 3/5 = 0.6\n",
    "category_average = 6007.00 (# average price when make_column == chevrolet)\n",
    "overall_dataset_average = 13285.03 (# average price for the entire dataset )\n",
    "chevrolet_encoding = 0.6 * 6007.00 + 0.4 * 13285.03\n",
    "```"
   ]
  },
  {
   "cell_type": "markdown",
   "id": "49c0b24e-af43-49c4-b9c9-f522a568d105",
   "metadata": {},
   "source": [
    "<p style=\"font-family: Arial; font-size:2.4em;color:green;\"> Example - MovieLens1M Dataset </p>"
   ]
  },
  {
   "cell_type": "code",
   "execution_count": 7,
   "id": "3a186e53-876c-4df3-bf13-7630e2f72f3c",
   "metadata": {},
   "outputs": [
    {
     "name": "stdout",
     "output_type": "stream",
     "text": [
      "Number of Unique Zipcodes: 3439\n"
     ]
    }
   ],
   "source": [
    "import matplotlib.pyplot as plt\n",
    "import numpy as np\n",
    "import pandas as pd\n",
    "import seaborn as sns\n",
    "import warnings\n",
    "\n",
    "plt.style.use(\"seaborn-whitegrid\")\n",
    "plt.rc(\"figure\", autolayout=True)\n",
    "plt.rc(\n",
    "    \"axes\",\n",
    "    labelweight=\"bold\",\n",
    "    labelsize=\"large\",\n",
    "    titleweight=\"bold\",\n",
    "    titlesize=14,\n",
    "    titlepad=10,\n",
    ")\n",
    "warnings.filterwarnings('ignore')\n",
    "\n",
    "\n",
    "df = pd.read_csv(\"module3.csv\")\n",
    "df = df.astype(np.uint8, errors='ignore') # reduce memory footprint\n",
    "print(\"Number of Unique Zipcodes: {}\".format(df[\"Zipcode\"].nunique()))"
   ]
  },
  {
   "cell_type": "code",
   "execution_count": 8,
   "id": "7b6f5644-8b65-4106-969f-7e4a00b4c132",
   "metadata": {},
   "outputs": [],
   "source": [
    "X = df.copy()\n",
    "y = X.pop('Rating')\n",
    "\n",
    "X_encode = X.sample(frac=0.25)\n",
    "y_encode = y[X_encode.index]\n",
    "X_pretrain = X.drop(X_encode.index)\n",
    "y_train = y[X_pretrain.index]"
   ]
  },
  {
   "cell_type": "code",
   "execution_count": 9,
   "id": "a78f24f1-ae5c-437d-b56c-75cb4a2f36d3",
   "metadata": {},
   "outputs": [],
   "source": [
    "from category_encoders import MEstimateEncoder\n",
    "\n",
    "# Create the encoder instance. Choose m to control noise.\n",
    "encoder = MEstimateEncoder(cols=[\"Zipcode\"], m=5.0)\n",
    "\n",
    "# Fit the encoder on the encoding split.\n",
    "encoder.fit(X_encode, y_encode)\n",
    "\n",
    "# Encode the Zipcode column to create the final training data\n",
    "X_train = encoder.transform(X_pretrain)"
   ]
  },
  {
   "cell_type": "code",
   "execution_count": 6,
   "id": "cc7d3df1-2271-4c1a-8c2c-d6f5b497a2d2",
   "metadata": {},
   "outputs": [
    {
     "data": {
      "image/png": "[encoded data removed]",
      "text/plain": [
       "<Figure size 540x360 with 1 Axes>"
      ]
     },
     "metadata": {},
     "output_type": "display_data"
    }
   ],
   "source": [
    "plt.figure(dpi=90)\n",
    "ax = sns.distplot(y, kde=False, norm_hist=True)\n",
    "ax = sns.kdeplot(X_train.Zipcode, color='r', ax=ax)\n",
    "ax.set_xlabel(\"Rating\")\n",
    "ax.legend(labels=['Zipcode', 'Rating']);\n"
   ]
  },
  {
   "cell_type": "code",
   "execution_count": null,
   "id": "c20fcec2-f870-416a-8f98-4b0f3fcfbf86",
   "metadata": {},
   "outputs": [],
   "source": []
  }
 ],
 "metadata": {
  "kernelspec": {
   "display_name": "Python 3 (ipykernel)",
   "language": "python",
   "name": "python3"
  },
  "language_info": {
   "codemirror_mode": {
    "name": "ipython",
    "version": 3
   },
   "file_extension": ".py",
   "mimetype": "text/x-python",
   "name": "python",
   "nbconvert_exporter": "python",
   "pygments_lexer": "ipython3",
   "version": "3.7.6"
  }
 },
 "nbformat": 4,
 "nbformat_minor": 5
}
